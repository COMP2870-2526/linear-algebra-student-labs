{
 "cells": [
  {
   "cell_type": "markdown",
   "id": "0f23bee0-af2d-4788-9e38-2eb353d6e131",
   "metadata": {
    "editable": true,
    "slideshow": {
     "slide_type": ""
    },
    "tags": [
     "header"
    ]
   },
   "source": [
    "# Theoretical Foundations of Computer Science II COMP2870\n",
    "\n",
    "**School of Computer Science, University of Leeds**\n",
    "\n",
    "# Lab02: Working with numpy\n",
    "\n",
    "These labsheets contains *formative activities* (which contribute to your learning) and *summative activities* (which you will complete and submit to be assessed as part of your portfolio).\n",
    "\n",
    "<div class=\"alert alert-block alert-danger\">\n",
    "<b>Portfolio exercise</b>\n",
    "\n",
    "Exercise marked with a red box is a summative exercise and must be submitted as part of your portfolio. You should use Gradescope to submit portfolio activities.\n",
    "</div>\n",
    "\n",
    "### Expectations\n",
    "\n",
    "1. **Timeliness** You should complete all of the activities in the order provided and submit your portfolio evidence on Gradescope before the completion date (Friday 7 November, 5pm).\n",
    "\n",
    "2. **Presentation** You should present all of your work clearly and concisely following additional guidance below.\n",
    "\n",
    "3. **Integrity** You are responsible for ensuring that all the evidence you submit as part of your portfolio is entirely your own work. You can find out more about Academic integrity on the Skill@library website. All work you submit for assessment is subject to the academic integrity policy.\n",
    "\n",
    "### Feedback\n",
    "Feedback on formative activities will be provided via lab classess and tutorials. Feedback on evidence submitted as part of the portfolio will be available on Gradescope.\n",
    "\n",
    "### Support opportunities\n",
    "Support with the activity sheet is available in the lab classes and tutorials. Individual support is available via the online booking system.\n",
    "\n",
    "### Statement on the Use of Generative AI (Red Category)\n",
    "This assessment is RED according to the GenAI traffice light system. **Generative AI (GenAI) tools cannot be used**. The aim of this task is for you to develop and demonstrate the specific skills and knowledge covered in the taught sessions. We want you to independently develop your understanding, criticical thinking skills and demonstrate fundamental skills that will be required throughout your programme. Reliance on GenAI could prevent you from achieving the intended learning outcomes and may impeded your skill development.\n",
    "\n",
    "You are still permitted to use dictionaries, thesauri, spelling and grammer-checking software to help identify and correct spelling mistakes and grammatrical errors (even if they are powered by GenAI). However, you should not use any software to rewrite sentence or make substantial changes to your original text, as this would be against the rules of this category.\n",
    "\n",
    "Failure to comply with these requirements may be considered academic misconduct under University regulations.\n",
    "\n",
    "### Expected time for completion:\n",
    "1-2 hours\n",
    "\n",
    "### Expected completion date:\n",
    "Friday 7 November, 5pm\n",
    "\n",
    "## Coursework summary\n",
    "\n",
    "These lab exercises cover material how to use `numpy`, how to calculate determinants of larger matrices and how to effectively time how long code takes to run in order to estimate compuational complexity of algorithms."
   ]
  },
  {
   "cell_type": "markdown",
   "id": "4aa5b64d",
   "metadata": {
    "editable": true,
    "slideshow": {
     "slide_type": ""
    },
    "tags": [
     "header"
    ]
   },
   "source": [
    "## How to access the lab\n",
    "\n",
    "You can access the lab worksheet directly through [minerva](https://minerva.leeds.ac.uk/), [github](https://github.com/COMP2870-2526/linear-algebra-student-labs) or using Noteable (accessible via Minerva - see `README.md` for detailed instructions).\n",
    "\n",
    "These lab worksheets are written using ['Jupyter Notebooks'](https://jupyter.org/). Many, many tutorials and guides are [available online](https://www.dataquest.io/blog/jupyter-notebook-tutorial/)."
   ]
  },
  {
   "cell_type": "markdown",
   "id": "72dcc063-eee9-412d-9dbf-ef200728c387",
   "metadata": {
    "editable": true,
    "slideshow": {
     "slide_type": ""
    },
    "tags": [
     "formative"
    ]
   },
   "source": [
    "## Exercise 1:\n",
    "\n",
    "In the first exercise, we will see how to perform basic linear algebra\n",
    "operations.\n",
    "\n",
    "You construct the matrix\n",
    "$$A = \\begin{pmatrix} 10 & 1 & 0 & 9 \\\\ 12.4 & 6 & 1 & 0 \\\\ 0 & 6 & 0 & 8 \\\\ 1 & 3.14 & 1 & 0 \\end{pmatrix}$$\n",
    "using the [`numpy`]() command `array`:"
   ]
  },
  {
   "cell_type": "code",
   "execution_count": null,
   "id": "66f4105e",
   "metadata": {
    "editable": true,
    "slideshow": {
     "slide_type": ""
    },
    "tags": [
     "formative"
    ]
   },
   "outputs": [],
   "source": [
    "A = np.array([[10, 1, 0, 9], [12.4, 6, 1, 0], [0, 6, 0, 8], [1, 3.14, 1, 0]])"
   ]
  },
  {
   "cell_type": "markdown",
   "id": "d717570c-6ec0-4aed-8dfb-0dc24144fb04",
   "metadata": {
    "editable": true,
    "slideshow": {
     "slide_type": ""
    },
    "tags": [
     "formative"
    ]
   },
   "source": [
    "You can check the dimensions of `A` by calling"
   ]
  },
  {
   "cell_type": "code",
   "execution_count": null,
   "id": "b3b07495",
   "metadata": {
    "editable": true,
    "slideshow": {
     "slide_type": ""
    },
    "tags": [
     "formative"
    ]
   },
   "outputs": [],
   "source": [
    "A.shape"
   ]
  },
  {
   "cell_type": "markdown",
   "id": "a74945ac-0cb2-4060-a234-4d83f7d1197b",
   "metadata": {
    "editable": true,
    "slideshow": {
     "slide_type": ""
    },
    "tags": [
     "formative"
    ]
   },
   "source": [
    "There are shortcut commands to help with some matrices."
   ]
  },
  {
   "cell_type": "code",
   "execution_count": null,
   "id": "32a0a364",
   "metadata": {
    "editable": true,
    "slideshow": {
     "slide_type": ""
    },
    "tags": [
     "formative"
    ]
   },
   "outputs": [],
   "source": [
    "identity = np.eye(4)  # takes one argument for a 4x4 identity matrix\n",
    "zeros = np.zeros((4, 4))  # takes one shape argument for a 4x4 matrix of zeros\n",
    "B = np.empty(\n",
    "    (4, 4)\n",
    ")  # takes one shape argument for a 4x4 matrix with values not initialised\n",
    "# to anything in particular"
   ]
  },
  {
   "cell_type": "markdown",
   "id": "f0cc2fe2-a957-440e-aec3-009df50451ca",
   "metadata": {
    "editable": true,
    "slideshow": {
     "slide_type": ""
    },
    "tags": [
     "formative"
    ]
   },
   "source": [
    "We can perform basic matrix operations too:"
   ]
  },
  {
   "cell_type": "code",
   "execution_count": null,
   "id": "beb58197",
   "metadata": {
    "editable": true,
    "slideshow": {
     "slide_type": ""
    },
    "tags": [
     "formative"
    ]
   },
   "outputs": [],
   "source": [
    "5 * A  # scalar multiplication\n",
    "A + identity  # to add matrices\n",
    "zeros @ A  # the @ operator is used to do matrix multiplication\n",
    "A.T  # we can call the method T to return (a view of) the transpose of A"
   ]
  },
  {
   "cell_type": "markdown",
   "id": "f3d1d55e-03bb-426f-94ed-23a5ef538ee9",
   "metadata": {
    "editable": true,
    "slideshow": {
     "slide_type": ""
    },
    "tags": [
     "formative"
    ]
   },
   "source": [
    "We can use the same expressions for vectors:"
   ]
  },
  {
   "cell_type": "code",
   "execution_count": null,
   "id": "126d66d5",
   "metadata": {
    "editable": true,
    "slideshow": {
     "slide_type": ""
    },
    "tags": [
     "formative"
    ]
   },
   "outputs": [],
   "source": [
    "a = np.array([1.0, 2.0, 3.0])  # row vector\n",
    "b = np.array([[4.0], [5.0], [6.0]])  # column vector"
   ]
  },
  {
   "cell_type": "markdown",
   "id": "8d84f50e-fb52-4563-8e14-a76c5c8efb44",
   "metadata": {
    "editable": true,
    "slideshow": {
     "slide_type": ""
    },
    "tags": [
     "formative"
    ]
   },
   "source": [
    "and compute scalar products very simply too"
   ]
  },
  {
   "cell_type": "code",
   "execution_count": null,
   "id": "deeb796a",
   "metadata": {
    "editable": true,
    "slideshow": {
     "slide_type": ""
    },
    "tags": [
     "formative"
    ]
   },
   "outputs": [],
   "source": [
    "c = np.array([-1.0, 0.0, -1.0])\n",
    "np.dot(a, c)"
   ]
  },
  {
   "cell_type": "markdown",
   "id": "c7632616-c828-48cd-b74c-a69397863708",
   "metadata": {
    "editable": true,
    "slideshow": {
     "slide_type": ""
    },
    "tags": [
     "formative"
    ]
   },
   "source": [
    "**Warning 1:** All algorithms we use in this module assume that we are\n",
    "working with double-precision floating-point numbers. We can check the\n",
    "type of the entries of the matrix using the `dtype` method:"
   ]
  },
  {
   "cell_type": "code",
   "execution_count": null,
   "id": "d1088d74",
   "metadata": {
    "editable": true,
    "slideshow": {
     "slide_type": ""
    },
    "tags": [
     "formative"
    ]
   },
   "outputs": [],
   "source": [
    "c.dtype"
   ]
  },
  {
   "cell_type": "markdown",
   "id": "fb04f855-7cf7-4439-8309-75ba16f2c913",
   "metadata": {
    "editable": true,
    "slideshow": {
     "slide_type": ""
    },
    "tags": [
     "formative"
    ]
   },
   "source": [
    "When constructing arrays, we can ensure that we have double-precision\n",
    "floating-point numbers using:"
   ]
  },
  {
   "cell_type": "code",
   "execution_count": null,
   "id": "2f44054f",
   "metadata": {
    "editable": true,
    "slideshow": {
     "slide_type": ""
    },
    "tags": [
     "formative"
    ]
   },
   "outputs": [],
   "source": [
    "d = np.array([1.0, 2.0, 3.0], dtype=float)\n",
    "d = np.array([1.0, 2.0, 3.0], dtype=np.double)  # or\n",
    "d = d.astype(float)  # or"
   ]
  },
  {
   "cell_type": "markdown",
   "id": "e49f1b59-0192-4709-a5c8-deeb632910ea",
   "metadata": {
    "editable": true,
    "slideshow": {
     "slide_type": ""
    },
    "tags": [
     "formative"
    ]
   },
   "source": [
    "**Warning 2:** In the first lab, you already saw that we cannot simply\n",
    "use the `==` operator to check floating-point numbers are equal. The\n",
    "same holds true when working with arrays with floating-point values. One\n",
    "simply way to check is to use:"
   ]
  },
  {
   "cell_type": "code",
   "execution_count": null,
   "id": "8ee6e362",
   "metadata": {
    "editable": true,
    "slideshow": {
     "slide_type": ""
    },
    "tags": [
     "formative"
    ]
   },
   "outputs": [],
   "source": [
    "tol = 1.0e-8\n",
    "np.linalg.norm(b - c) < tol"
   ]
  },
  {
   "cell_type": "markdown",
   "id": "02396fbe-648b-4d28-8714-7d5289f35f64",
   "metadata": {
    "editable": true,
    "slideshow": {
     "slide_type": ""
    },
    "tags": [
     "portfolio"
    ]
   },
   "source": [
    "## Exercise 2:\n",
    "\n",
    "<div class=\"alert alert-block alert-danger\">\n",
    "<b>Portfolio exercise</b>\n",
    "\n",
    "You should submit your code based on the template below for `determinant` using Laplace expansions and the value of the determinant of the $11 \\times 11$ matrix $D$ with entries given by:\n",
    "$$\n",
    "D_{ij} = 2^{-|i-j|}.\n",
    "$$\n",
    "</div>\n",
    "\n",
    "From [Definition 3.4](https://comp2870-2526.github.io/linear-algebra-notes/src/lec03.html#def-determinant):\n",
    "\n",
    "Let $A$ be a square $n \\times n$ matrix.\n",
    "\n",
    "If $n = 2$,\n",
    "$$\n",
    "\\det A = \\det \\begin{pmatrix} a_{11} & a_{12} \\\\ a_{21} & a_{22} \\end{pmatrix}\n",
    "= a_{11} a_{22} - a_{21} a_{12}.\n",
    "$$\n",
    "\n",
    "If $n = 3$,\n",
    "$$\n",
    "\\begin{aligned}\n",
    "\\det A & = \\det \\begin{pmatrix} a_{11} & a_{12} & a_{13} \\\\\n",
    "a_{21} & a_{22} & a_{23} \\\\\n",
    "a_{31} & a_{32} & a_{33}\n",
    "\\end{pmatrix} \\\\\n",
    "& = a_{11} (a_{22} a_{33} - a_{23} a_{32}) - a_{12} (a_{21} a_{33} - a_{23}\n",
    "a_{31}) + a_{13} (a_{21} a_{32} - a_{22} - a_{31}).\n",
    "\\end{aligned}\n",
    "$$\n",
    "\n",
    "For general $n$, the determinant can be found by, for example, Laplace expansions\n",
    "$$\n",
    "\\det A = \\sum_{j=1}^n (-1)^{j+1} a_{1,j} m_{1,j},\n",
    "$$\n",
    "where $a_{1,j}$ is the entry of the first row and $j$th column of $A$ and\n",
    "$m_{1,j}$ is the determinant of the submatrix obtained by removing the first row\n",
    "and the $j$th column from $A$.\n",
    "\n",
    "\n",
    "Write a Python function which takes an $n \\times n$ matrix stored as a numpy array and returns the determinant using the template below. You should write in the specialisms for the cases $n=2,3$ and use Laplace expansions for the general case."
   ]
  },
  {
   "cell_type": "code",
   "execution_count": null,
   "id": "b328d7ec-f101-483e-99e7-c532bf0c5365",
   "metadata": {
    "editable": true,
    "slideshow": {
     "slide_type": ""
    },
    "tags": [
     "portfolio"
    ]
   },
   "outputs": [],
   "source": [
    "def determinant(A):\n",
    "    n, m = A.shape\n",
    "    assert n == m, f\"A is not square! {A.shape=}\"\n",
    "\n",
    "    if n == 2:\n",
    "        return ...\n",
    "    elif n == 3:\n",
    "        return ...\n",
    "\n",
    "    return ..."
   ]
  },
  {
   "cell_type": "markdown",
   "id": "c1ce79a1-0be7-4724-af8a-d4d8acc9c733",
   "metadata": {
    "editable": true,
    "slideshow": {
     "slide_type": ""
    },
    "tags": [
     "portfolio"
    ]
   },
   "source": [
    "Test your code on the following examples:\n",
    "\n",
    "$$\n",
    "\\begin{aligned}\n",
    "A & = \\begin{pmatrix}\n",
    "1 & 2 \\\\ 3 & 4\n",
    "\\end{pmatrix} & \\det A & = -2 \\\\\n",
    "%\n",
    "B & = \\begin{pmatrix}\n",
    "1 & 2 & 3 \\\\ 0 & 4 & 5 \\\\ 1 & 0 & 6\n",
    "\\end{pmatrix} & \\det B & = 22 \\\\\n",
    "%\n",
    "C & = \\begin{pmatrix}\n",
    "1 & 2 & 3 & 4 \\\\\n",
    "5 & 6 & 7 & 8 \\\\\n",
    "2 & 6 & 4 & 8 \\\\\n",
    "3 & 1 & 1 & 2\n",
    "\\end{pmatrix} & \\det C & = 72.\n",
    "\\end{aligned}\n",
    "$$\n",
    "\n"
   ]
  },
  {
   "cell_type": "markdown",
   "id": "14bedb98-aaeb-4421-b0c6-ba73f08e74f3",
   "metadata": {
    "editable": true,
    "slideshow": {
     "slide_type": ""
    },
    "tags": [
     "formative"
    ]
   },
   "source": [
    "## Exercise 3:\n",
    "\n",
    "We are going to use your code from Exercise 2 to see how we can time code to make predictions about the computational complexity.\n",
    "\n",
    "We are going to use your code, but add an additional case which will allow us to generate further results which we write as code here:"
   ]
  },
  {
   "cell_type": "code",
   "execution_count": null,
   "id": "2e2719bb-e454-4fac-92d8-bf80b1d8309e",
   "metadata": {
    "editable": true,
    "slideshow": {
     "slide_type": ""
    },
    "tags": [
     "formative"
    ]
   },
   "outputs": [],
   "source": [
    "def determinant2(A):\n",
    "    n, m = A.shape\n",
    "    assert n == m, f\"A is not square! {A.shape=}\"\n",
    "\n",
    "    if n == 2:\n",
    "        return ...\n",
    "    elif n == 3:\n",
    "        return ...\n",
    "\n",
    "    if n % 2 == 0:\n",
    "        det_a11 = determinant2(A[0 : n // 2, 0 : n // 2])\n",
    "        det_a12 = determinant2(A[0 : n // 2, n // 2 :])\n",
    "        det_a21 = determinant2(A[n // 2 :, 0 : n // 2])\n",
    "        det_a22 = determinant2(A[n // 2 :, n // 2 :])\n",
    "        return det_a11 * det_a22 - det_a21 * det_a12\n",
    "\n",
    "    return ..."
   ]
  },
  {
   "cell_type": "code",
   "execution_count": null,
   "id": "981fe26d-0e1e-4a71-898c-106cbd4b9d87",
   "metadata": {
    "editable": true,
    "slideshow": {
     "slide_type": ""
    },
    "tags": [
     "formative"
    ]
   },
   "outputs": [],
   "source": []
  },
  {
   "cell_type": "markdown",
   "id": "a8c0cdad-b16d-4d4c-8aa1-8437bce6d89c",
   "metadata": {
    "editable": true,
    "slideshow": {
     "slide_type": ""
    },
    "tags": [
     "formative"
    ]
   },
   "source": [
    "To see how the the computational cost grows, we fit a power law curve. A power law is a function of the form $f(n) = a n^m$ for some values of $a$ and $m$. To find the best values of $a$ and $m$, we fit to our timings data using `scipy.optimize.curve_fit`."
   ]
  },
  {
   "cell_type": "code",
   "execution_count": null,
   "id": "5cd584b8-87c1-4cca-a4ce-fe7d0e882acc",
   "metadata": {
    "editable": true,
    "slideshow": {
     "slide_type": ""
    },
    "tags": [
     "formative"
    ]
   },
   "outputs": [],
   "source": [
    "# help from scipy\n",
    "from scipy.optimize import curve_fit\n",
    "\n",
    "\n",
    "# function to fit\n",
    "def power_law(n, a, m):\n",
    "    return a * (n**m)\n",
    "\n",
    "\n",
    "# do the fitting\n",
    "popt, pcov = curve_fit(power_law, sizes, times)\n",
    "a_fit, m_fit = popt  # Extract the fitted parameters\n",
    "\n",
    "print(\"Fitted parameters:\")\n",
    "print(f\"a = {a_fit}\")\n",
    "print(f\"m = {m_fit}\")"
   ]
  },
  {
   "cell_type": "markdown",
   "id": "0f539d53-c67a-471e-80a6-491be2ba9709",
   "metadata": {
    "editable": true,
    "slideshow": {
     "slide_type": ""
    },
    "tags": [
     "formative"
    ]
   },
   "source": [
    "Now redraw your plot with both the raw timings and a curve to show the best fit. Based on your plot alone, what do you expect the run time complexity of this algorithm?"
   ]
  },
  {
   "cell_type": "markdown",
   "id": "ca507883-0aed-4c7f-9a4d-f1ba91427472",
   "metadata": {
    "editable": true,
    "slideshow": {
     "slide_type": ""
    },
    "tags": [
     "formative"
    ]
   },
   "source": [
    "## Exercise 4 (Extension)\n",
    "\n",
    "Can you rewrite your determinant code to avoid any copies? How does this affect the run times?"
   ]
  }
 ],
 "metadata": {
  "kernelspec": {
   "display_name": "Python 3 (ipykernel)",
   "language": "python",
   "name": "python3"
  },
  "language_info": {
   "codemirror_mode": {
    "name": "ipython",
    "version": 3
   },
   "file_extension": ".py",
   "mimetype": "text/x-python",
   "name": "python",
   "nbconvert_exporter": "python",
   "pygments_lexer": "ipython3",
   "version": "3.12.8"
  }
 },
 "nbformat": 4,
 "nbformat_minor": 5
}
