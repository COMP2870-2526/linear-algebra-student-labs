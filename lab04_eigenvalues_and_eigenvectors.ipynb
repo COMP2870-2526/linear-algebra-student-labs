{
 "cells": [
  {
   "cell_type": "markdown",
   "id": "263f1360-e304-42ae-bd18-7faa4c796b79",
   "metadata": {
    "editable": true,
    "slideshow": {
     "slide_type": ""
    },
    "tags": []
   },
   "source": [
    "# Lab04: Eigenvalues and eigenvectors"
   ]
  },
  {
   "cell_type": "code",
   "execution_count": null,
   "id": "796a8ea0-041f-48db-91b6-2ed6eff92c95",
   "metadata": {
    "editable": true,
    "slideshow": {
     "slide_type": ""
    },
    "tags": []
   },
   "outputs": [],
   "source": [
    "import numpy as np"
   ]
  },
  {
   "cell_type": "markdown",
   "id": "fe5937fd-613e-4c7c-b097-c59ea2d9372e",
   "metadata": {
    "editable": true,
    "slideshow": {
     "slide_type": ""
    },
    "tags": []
   },
   "source": [
    "## Exercise 1: Eigenvalues of $2 \\times 2$ matrices\n",
    "\n",
    "For $2 \\times 2$ matrices, we can use the quadratic formula to directly\n",
    "find eigenvalues of matrices. First, write down which quadratic equation\n",
    "that the eigenvalues should solve and then implement this in Python\n",
    "code. You should write a function which takes a $2 \\times 2$ matrix\n",
    "represented by a numpy array and return both eigenvalues.\n",
    "\n",
    "Test your code with the matrix $$\n",
    "\\begin{pmatrix}\n",
    "9 & -2 \\\\ -2 & 6\n",
    "\\end{pmatrix}.\n",
    "$$ Find the eigenvalues by hand first then check your code gives the\n",
    "same results."
   ]
  },
  {
   "cell_type": "code",
   "execution_count": null,
   "id": "904a476c-40b3-4644-b786-9350381ca36e",
   "metadata": {
    "editable": true,
    "slideshow": {
     "slide_type": ""
    },
    "tags": []
   },
   "outputs": [],
   "source": []
  },
  {
   "cell_type": "markdown",
   "id": "70900839-ec74-486f-80c7-531280c741eb",
   "metadata": {
    "editable": true,
    "slideshow": {
     "slide_type": ""
    },
    "tags": []
   },
   "source": [
    "## Exercise 2: \n",
    "\n",
    "One nice way to use eigenvalues and eigenvectors is to create a useful basis for compression. We will test this out on an image of the Bragg building:\n",
    "\n",
    "<a title=\"Ed18m8c, CC BY-SA 4.0 &lt;https://creativecommons.org/licenses/by-sa/4.0&gt;, via Wikimedia Commons\" href=\"https://commons.wikimedia.org/wiki/File:Sir_William_Henry_Bragg_Building_-_Main_entrance_-_July_2022.jpg\"><img width=\"512\" alt=\"Garden and main entrance to the Sir William Henry Bragg Building, Woodhouse Lane, Leeds.\" src=\"https://upload.wikimedia.org/wikipedia/commons/thumb/3/31/Sir_William_Henry_Bragg_Building_-_Main_entrance_-_July_2022.jpg/512px-Sir_William_Henry_Bragg_Building_-_Main_entrance_-_July_2022.jpg?20220715151917\"></a> \\\n",
    "Ed18m8c, [CC BY-SA 4.0](https://creativecommons.org/licenses/by-sa/4.0), via Wikimedia Commons.\n",
    "\n",
    "The idea is:\n",
    "1. Load the image using `pillow` and convert to gray scale then to a numpy array\n",
    "2. Compute what's known as a covariance matrix (more on this later)\n",
    "3. Compute eigenvalues and eigenvectors and sort them together\n",
    "4. Reconstruct the image using the top $k$ eigenvalues using the formula:\n",
    "   $$\n",
    "   X_{\\text{reconst}} = X W_k W_k^T + \\mu,\n",
    "   $$\n",
    "   where\n",
    "   - $X$ is the centered data (`centered_data` in the code below),\n",
    "   - $W_k$ is the first $k$ eigenvectors corresponding to the $k$ largest eigenvalues,\n",
    "   - $\\mu$ is the mean of the original data (`mean_vector` in the code below).\n",
    "\n",
    "In this exercise, you should complete the code below by sorting the eigenvalues and eigenvectors and writing the code for reconstruction of the image. Then plot the initial image along with the reconstructions for $k = 5, 20, 50$."
   ]
  },
  {
   "cell_type": "code",
   "execution_count": null,
   "id": "9bc9d1dc-5e79-493b-b967-7b0d7b360a31",
   "metadata": {
    "editable": true,
    "slideshow": {
     "slide_type": ""
    },
    "tags": []
   },
   "outputs": [],
   "source": [
    "import matplotlib.pyplot as plt\n",
    "from PIL import Image\n",
    "\n",
    "# Step 1: Load and preprocess image\n",
    "image_fn = \"./img/bragg_building.jpg\"\n",
    "img = Image.open(image_fn).convert(\"L\")\n",
    "img_array = np.array(img, dtype=np.float64)\n",
    "\n",
    "# Normalize image\n",
    "img_array /= 255.0\n",
    "\n",
    "# Step 2: Compute the covariance matrix\n",
    "# Students need to center the data first (subtract mean)\n",
    "mean_vector = np.mean(img_array, axis=0)\n",
    "centered_data = img_array - mean_vector\n",
    "\n",
    "# Compute covariance matrix\n",
    "cov_matrix = np.cov(centered_data, rowvar=False)\n",
    "\n",
    "# Step 3: Compute eigenvalues and eigenvectors\n",
    "eigenvalues, eigenvectors = np.linalg.eigh(cov_matrix)\n",
    "\n",
    "# Sort eigenvalues and eigenvectors in descending order\n",
    "# **TODO**\n",
    "\n",
    "\n",
    "# Step 4: Reconstruct image using top k components\n",
    "def reconstruct_image(data, eigenvectors, mean_vector, k):\n",
    "    \"\"\"\n",
    "    Reconstructs the image using the top k eigenvectors.\n",
    "    \"\"\"\n",
    "    # **TODO**\n",
    "\n",
    "\n",
    "k = 0  # TODO\n",
    "new_image = reconstruct_image(centered_data, eigenvectors, mean_vector, k)"
   ]
  },
  {
   "cell_type": "markdown",
   "id": "f6ca1c7f-cdba-48f7-8b90-15f5112e1203",
   "metadata": {
    "editable": true,
    "slideshow": {
     "slide_type": ""
    },
    "tags": []
   },
   "source": [
    "<div class=\"alert alert-block alert-danger\">\n",
    "<b>Portfolio exercise</b>\n",
    "You should submit:\n",
    "\n",
    "1. The full code for the image reconstruction and generating the images.\n",
    "2. The plot of the original image and the reconstructions for $k=5, 20, 50$.\n",
    "</div>"
   ]
  },
  {
   "cell_type": "markdown",
   "id": "3f9ba1b8-d40d-4037-8afc-0d016e5dfed8",
   "metadata": {
    "editable": true,
    "slideshow": {
     "slide_type": ""
    },
    "tags": []
   },
   "source": [
    "### Exercise 3: Complex numbers and roots of unity\n",
    "\n",
    "This exercise explores the use of complex numbers using `numpy`.\n",
    "\n",
    "To start you are given this helper code:"
   ]
  },
  {
   "cell_type": "code",
   "execution_count": null,
   "id": "75abd7d6-7ebf-4902-800f-0375f8f12cb0",
   "metadata": {
    "editable": true,
    "slideshow": {
     "slide_type": ""
    },
    "tags": []
   },
   "outputs": [],
   "source": [
    "\n",
    "\n",
    "# A helper function to convert polar to Cartesian\n",
    "def polar_to_cartesian(R, theta):\n",
    "    \"\"\"Return a complex number given radius r and angle theta.\"\"\"\n",
    "    return complex(R * np.cos(theta), R * np.sin(theta))\n",
    "\n",
    "\n",
    "# A helper function to plot complex numbers\n",
    "def plot_complex_numbers(points, title=\"Complex Plane\"):\n",
    "    plt.axhline(0, color=\"black\", linewidth=0.8)\n",
    "    plt.axvline(0, color=\"black\", linewidth=0.8)\n",
    "    plt.scatter(\n",
    "        [z.real for z in points], [z.imag for z in points], c=\"C0\", s=50\n",
    "    )\n",
    "    plt.gca().set_aspect(\"equal\", adjustable=\"box\")\n",
    "    plt.title(title)\n",
    "    plt.grid(True)\n",
    "    plt.show()"
   ]
  },
  {
   "cell_type": "markdown",
   "id": "ec93eec1-5437-4b6b-91f3-378f6b8e9edc",
   "metadata": {
    "editable": true,
    "slideshow": {
     "slide_type": ""
    },
    "tags": []
   },
   "source": [
    "1. Write code to convert from Cartesian form a complex number ($z = x + iy$) to polar form ($z = R (\\cos (\\theta) + i \\sin(\\theta)$).\n",
    "\n",
    "2. Test your code with $z = 1 + i \\sqrt{3}$. Where is the point $z$ in the complex plane?\n",
    "\n",
    "3. The cube roots of unit satisfy $z^3 = 1$ (see Worksheet for more).\n",
    "\n",
    "    1. Write code to compute all solutions.\n",
    "    2. Store them in a list.\n",
    "    3. Print each in both polar and Cartesian form.\n",
    "    4. Plot the roots in the comlpex plane.\n",
    "    5. What shape do the points make?\n",
    "\n",
    "4. Generalise your code to solve for the $n$th root of unit $z^n = 1$. What shape do these points make?"
   ]
  }
 ],
 "metadata": {
  "kernelspec": {
   "display_name": "Python 3 (ipykernel)",
   "language": "python",
   "name": "python3"
  },
  "language_info": {
   "codemirror_mode": {
    "name": "ipython",
    "version": 3
   },
   "file_extension": ".py",
   "mimetype": "text/x-python",
   "name": "python",
   "nbconvert_exporter": "python",
   "pygments_lexer": "ipython3",
   "version": "3.12.8"
  }
 },
 "nbformat": 4,
 "nbformat_minor": 5
}
