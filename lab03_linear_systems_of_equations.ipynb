{
 "cells": [
  {
   "cell_type": "markdown",
   "id": "c509c383-690c-471a-aabf-4bbc21632c23",
   "metadata": {
    "editable": true,
    "slideshow": {
     "slide_type": ""
    },
    "tags": []
   },
   "source": [
    "# Lab03: Linear systems of equations"
   ]
  },
  {
   "cell_type": "markdown",
   "id": "2d35d974-f35b-4c5b-919c-83661b9c48aa",
   "metadata": {
    "editable": true,
    "slideshow": {
     "slide_type": ""
    },
    "tags": []
   },
   "source": [
    "First some helper code for generating good matrices for LU factorisation tests. "
   ]
  },
  {
   "cell_type": "code",
   "execution_count": null,
   "id": "d63cdf2a-39e4-4e48-ab3f-8142054b4692",
   "metadata": {
    "editable": true,
    "slideshow": {
     "slide_type": ""
    },
    "tags": []
   },
   "outputs": [],
   "source": [
    "import numpy as np\n",
    "from scipy.sparse import diags\n",
    "\n",
    "\n",
    "def generate_safe_system(n, seed=None):\n",
    "    \"\"\"\n",
    "    Generate a linear system A x = b where A is strictly diagonally dominant,\n",
    "    ensuring LU factorization without pivoting will work.\n",
    "\n",
    "    Parameters:\n",
    "        n (int): Size of the system (n x n)\n",
    "\n",
    "    Returns:\n",
    "        A (ndarray): n x n strictly diagonally dominant matrix\n",
    "        b (ndarray): RHS vector\n",
    "        x_true (ndarray): The true solution vector\n",
    "    \"\"\"\n",
    "\n",
    "    k = [np.ones(n - 1), -2 * np.ones(n), np.ones(n - 1)]\n",
    "    offset = [-1, 0, 1]\n",
    "    A = diags(k, offset).toarray()\n",
    "\n",
    "    # Solution is always all ones\n",
    "    x_true = np.ones((n, 1))\n",
    "\n",
    "    # Compute b = A @ x_true\n",
    "    b = A @ x_true\n",
    "\n",
    "    return A, b, x_true"
   ]
  },
  {
   "cell_type": "markdown",
   "id": "70970891-77cf-4b83-ae39-fadb7209647c",
   "metadata": {
    "editable": true,
    "slideshow": {
     "slide_type": ""
    },
    "tags": []
   },
   "source": [
    "## Exercise 1: LU factorisation\n",
    "\n",
    "1. Implement the algorithm for LU factorisation as described [in the\n",
    "notes](https://comp2870-2526.github.io/linear-algebra-notes/src/lec04.html#sec-LU-factorisation).\n",
    "You should implement a Python function which accepts an $n \\times n$\n",
    "matrix $A$ represented as a numpy array and returns one lower triangular\n",
    "matrix $L$ and one upper triangular matrix $U$ with $A = LU$.\n",
    "\n",
    "    Here is some starter code:"
   ]
  },
  {
   "cell_type": "code",
   "execution_count": null,
   "id": "71b3bff4",
   "metadata": {
    "editable": true,
    "slideshow": {
     "slide_type": ""
    },
    "tags": []
   },
   "outputs": [],
   "source": [
    "def lu_factorisation(A):\n",
    "    \"\"\"\n",
    "    Compute the LU factorisation of a square matrix A.\n",
    "\n",
    "    The function decomposes a square matrix ``A`` into the product of a lower\n",
    "    triangular matrix ``L`` and an upper triangular matrix ``U`` such that:\n",
    "\n",
    "    .. math::\n",
    "        A = L U\n",
    "\n",
    "    where ``L`` has unit diagonal elements and ``U`` is upper triangular.\n",
    "\n",
    "    Parameters\n",
    "    ----------\n",
    "    A : numpy.ndarray\n",
    "        A 2D NumPy array of shape ``(n, n)`` representing the square matrix to\n",
    "        factorise.\n",
    "\n",
    "    Returns\n",
    "    -------\n",
    "    L : numpy.ndarray\n",
    "        A lower triangular matrix with shape ``(n, n)`` and unit diagonal.\n",
    "    U : numpy.ndarray\n",
    "        An upper triangular matrix with shape ``(n, n)``.\n",
    "    \"\"\"\n",
    "    n, m = A.shape\n",
    "    if n != m:\n",
    "        raise ValueError(f\"Matrix A is not square {A.shape=}\")\n",
    "\n",
    "    # construct arrays of zeros\n",
    "    L, U = np.zeros_like(A), np.zeros_like(A)\n",
    "\n",
    "    # ..."
   ]
  },
  {
   "cell_type": "markdown",
   "id": "1d5864f6-0f7e-4695-b6c4-9bdd9bad95c7",
   "metadata": {
    "editable": true,
    "slideshow": {
     "slide_type": ""
    },
    "tags": []
   },
   "source": [
    "2. Test your solution on the matrix $A$: $$\n",
    "A = \\begin{pmatrix}\n",
    "4 & 2 & 0 \\\\ 2 & 3 & 1 \\\\ 0 & 1 & 2.5\n",
    "\\end{pmatrix}.\n",
    "$$ First compute the LU factorisation by hand and then\n",
    "check $A = L U$."
   ]
  },
  {
   "cell_type": "code",
   "execution_count": null,
   "id": "ad116163-5b1b-47ed-8349-7d72c8637a45",
   "metadata": {
    "editable": true,
    "slideshow": {
     "slide_type": ""
    },
    "tags": []
   },
   "outputs": [],
   "source": []
  },
  {
   "cell_type": "markdown",
   "id": "b59b4565-a280-4313-8213-069e1ad38f0f",
   "metadata": {
    "editable": true,
    "slideshow": {
     "slide_type": ""
    },
    "tags": []
   },
   "source": [
    "3. Consider the large matrix given by:"
   ]
  },
  {
   "cell_type": "code",
   "execution_count": null,
   "id": "a22ad0cb-51c6-4418-bd05-3723c0cc7215",
   "metadata": {
    "editable": true,
    "slideshow": {
     "slide_type": ""
    },
    "tags": []
   },
   "outputs": [],
   "source": [
    "A_large, b_large, x_large = generate_safe_system(100)"
   ]
  },
  {
   "cell_type": "markdown",
   "id": "8e86e2df-913f-4a42-bf75-e34537240fc9",
   "metadata": {
    "editable": true,
    "slideshow": {
     "slide_type": ""
    },
    "tags": []
   },
   "source": [
    "We can use the LU factorisation as another way to compute the determinant of a matrix.\n",
    "We can use the fact that we can easily compute the determinant of triangular matrix and that $\\det(XY) = \\det(X) \\det(Y)$.\n",
    "\n",
    "Use this following code to determine the determinant of `A`:"
   ]
  },
  {
   "cell_type": "code",
   "execution_count": null,
   "id": "ed1f9ee7-ac71-4835-b3a0-5d0ad5f64b9f",
   "metadata": {
    "editable": true,
    "slideshow": {
     "slide_type": ""
    },
    "tags": []
   },
   "outputs": [],
   "source": [
    "def determinant(A):\n",
    "    n = A.shape[0]\n",
    "    L, U = lu_factorisation(A)\n",
    "\n",
    "    det_L = 1.0\n",
    "    det_U = 1.0\n",
    "\n",
    "    for i in range(n):\n",
    "        det_L *= L[i, i]\n",
    "        det_U *= U[i, i]\n",
    "\n",
    "    return det_L * det_U"
   ]
  },
  {
   "cell_type": "markdown",
   "id": "0a9116cc-d2c2-463a-aefc-1431aa363390",
   "metadata": {
    "editable": true,
    "slideshow": {
     "slide_type": ""
    },
    "tags": []
   },
   "source": [
    "## Exercise 2: Timing LU factorisation\n",
    "\n",
    "Combine your implementation of LU factorisation with the forwards and\n",
    "backwards solve from the lecture notes to create a solver for a system\n",
    "of linear equations. Compare how long it takes for each part of your\n",
    "code to run against the code for Gaussian elimination from the lecture\n",
    "notes. Describe what you find."
   ]
  },
  {
   "cell_type": "markdown",
   "id": "4cea340f-a68a-4194-8fa5-6270731ebd9c",
   "metadata": {
    "editable": true,
    "slideshow": {
     "slide_type": ""
    },
    "tags": []
   },
   "source": [
    "Use the following code to help generate the test cases:"
   ]
  },
  {
   "cell_type": "code",
   "execution_count": null,
   "id": "56a82bc4",
   "metadata": {
    "editable": true,
    "slideshow": {
     "slide_type": ""
    },
    "tags": []
   },
   "outputs": [],
   "source": [
    "sizes = [2**j for j in range(1, 6)]\n",
    "\n",
    "for n in sizes:\n",
    "    # generate a random system of linear equations of size n\n",
    "    A, b, x = generate_safe_system(n)\n",
    "\n",
    "    # do the solve\n",
    "    ..."
   ]
  },
  {
   "cell_type": "markdown",
   "id": "eb90b58d-67bf-4289-b6e8-f5003d16270b",
   "metadata": {
    "editable": true,
    "slideshow": {
     "slide_type": ""
    },
    "tags": []
   },
   "source": [
    "<div class=\"alert alert-block alert-danger\">\n",
    "<b>Portfolio exercise</b>\n",
    "You should submit:\n",
    "\n",
    "1. Your code for `lu_factorisation`\n",
    "2. The determinant of `A_large` from Exercise 1.3.\n",
    "3. The plot of run times for LU factorisation (your code) and Gaussian elimination (from the notes)\n",
    "4. A comment on the differences between the run times.\n",
    "</div>"
   ]
  },
  {
   "cell_type": "code",
   "execution_count": null,
   "id": "20c0c7b0-aa0c-490e-b978-af8d7d98f307",
   "metadata": {
    "editable": true,
    "slideshow": {
     "slide_type": ""
    },
    "tags": []
   },
   "outputs": [],
   "source": []
  },
  {
   "cell_type": "markdown",
   "id": "c31bb189-80b1-4aaf-bc36-961614f58258",
   "metadata": {
    "editable": true,
    "slideshow": {
     "slide_type": ""
    },
    "tags": []
   },
   "source": [
    "\n",
    "## Exercise 3: LU factorisation with pivoting (Extension)\n",
    "\n",
    "We can improve the stability of LU factorisation by additionally\n",
    "including a pivoting step.\n",
    "\n",
    "The new algorithm looks like:\n",
    "\n",
    "TODO! update algorithm steps here\n",
    "\n",
    "1.  Initialise $P = I_n$ (the $n \\times n$ identity), $L = O_n$ (the\n",
    "    $n \\times n$ zero matrix) and $U = O_n$.\n",
    "\n",
    "2.  For $k = 1, \\ldots n$:\n",
    "\n",
    "    1.  Find the pivot row with the largest $|A_{ik}|$ for\n",
    "        $i = k, \\ldots, n$. Swap rows $k$ and $p$ in $A$ and store this\n",
    "        swap in $P$.\n",
    "    2.  Continue with LU factorisation in column $k$ as usual.\n",
    "    3.  Repeat for next column $k+1$.\n",
    "\n",
    "Implement this new method and test on the system of linear equations\n",
    "given by: $$\n",
    "\\begin{pmatrix}\n",
    "10 & -7 & 0 \\\\ -3 & 2.1 - \\varepsilon & 6 \\\\ 5 & -1 & 5\n",
    "\\end{pmatrix}\n",
    "\\begin{pmatrix}\n",
    "x_1 \\\\ x_2 \\\\x_3\n",
    "\\end{pmatrix}\n",
    "= \\begin{pmatrix}\n",
    "7 \\\\ 9.9 + \\varepsilon \\\\ 11\n",
    "\\end{pmatrix}.\n",
    "$$ Test with $\\varepsilon = 10^{-14}$."
   ]
  },
  {
   "cell_type": "code",
   "execution_count": null,
   "id": "76720ff7-e944-40eb-ac15-7c6b4305994a",
   "metadata": {
    "editable": true,
    "slideshow": {
     "slide_type": ""
    },
    "tags": []
   },
   "outputs": [],
   "source": []
  },
  {
   "cell_type": "code",
   "execution_count": null,
   "id": "db6f2846-2a75-4ee1-94b4-811d59f1b8fd",
   "metadata": {
    "editable": true,
    "slideshow": {
     "slide_type": ""
    },
    "tags": []
   },
   "outputs": [],
   "source": []
  }
 ],
 "metadata": {
  "kernelspec": {
   "display_name": "Python 3 (ipykernel)",
   "language": "python",
   "name": "python3"
  },
  "language_info": {
   "codemirror_mode": {
    "name": "ipython",
    "version": 3
   },
   "file_extension": ".py",
   "mimetype": "text/x-python",
   "name": "python",
   "nbconvert_exporter": "python",
   "pygments_lexer": "ipython3",
   "version": "3.12.8"
  }
 },
 "nbformat": 4,
 "nbformat_minor": 5
}
