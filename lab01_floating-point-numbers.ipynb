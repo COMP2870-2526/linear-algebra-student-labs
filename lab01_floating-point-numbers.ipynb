{
 "cells": [
  {
   "cell_type": "markdown",
   "id": "82807964-a57a-452c-b1f6-3535b1fa578d",
   "metadata": {
    "editable": true,
    "slideshow": {
     "slide_type": ""
    },
    "tags": []
   },
   "source": [
    "# Theoretical Foundations of Computer Science II COMP2870\n",
    "\n",
    "**School of Computer Science, University of Leeds**\n",
    "\n",
    "## Lab 01: Floating-point numbers\n",
    "\n",
    "These labsheets contains *formative activities* (which contribute to your learning) and *summative activities* (which you will complete and submit to be assessed as part of your portfolio).\n",
    "\n",
    "<div class=\"alert alert-block alert-danger\">\n",
    "<b>Portfolio exercise</b>\n",
    "\n",
    "Exercise marked with a red box is a summative exercise and must be submitted as part of your portfolio. You should use Gradescope to submit portfolio activities.\n",
    "</div>\n",
    "\n",
    "### Expectations\n",
    "\n",
    "1. **Timeliness** You should complete all of the activities in the order provided before the completion date (Friday 31 October, 5pm).\n",
    "\n",
    "2. **Presentation** You should present all of your work clearly and concisely following additional guidance below.\n",
    "\n",
    "3. **Integrity** You are responsible for ensuring that all the evidence you submit as part of your portfolio is entirely your own work. You can find out more about Academic integrity on the Skill@library website. All work you submit for assessment is subject to the academic integrity policy.\n",
    "\n",
    "### Feedback\n",
    "Feedback on formative activities will be provided via lab classess and tutorials. Feedback on evidence submitted as part of the portfolio will be available on Gradescope.\n",
    "\n",
    "### Support opportunities\n",
    "Support with the activity sheet is available in the lab classes and tutorials. Individual support is available via the online booking system.\n",
    "\n",
    "### Statement on the Use of Generative AI (Red Category)\n",
    "This assessment is RED according to the GenAI traffice light system. **Generative AI (GenAI) tools cannot be used**. The aim of this task is for you to develop and demonstrate the specific skills and knowledge covered in the taught sessions. We want you to independently develop your understanding, criticical thinking skills and demonstrate fundamental skills that will be required throughout your programme. Reliance on GenAI could prevent you from achieving the intended learning outcomes and may impeded your skill development.\n",
    "\n",
    "You are still permitted to use dictionaries, thesauri, spelling and grammer-checking software to help identify and correct spelling mistakes and grammatrical errors (even if they are powered by GenAI). However, you should not use any software to rewrite sentence or make substantial changes to your original text, as this would be against the rules of this category.\n",
    "\n",
    "Failure to comply with these requirements may be considered academic misconduct under University regulations.\n",
    "\n",
    "### Expected time for completion:\n",
    "1-2 hours\n",
    "\n",
    "### Expected completion date:\n",
    "Friday 31 October, 5pm.\n",
    "\n",
    "## Coursework summary\n",
    "\n",
    "These lab exercises cover material not covered in the lectures. Supporting written material is available at [2  Floating point number systems](https://comp2870-2526.github.io/linear-algebra-notes/src/lec02.html).\n",
    "\n",
    "## Learning outcomes\n",
    "\n",
    "On completion of this activity sheet you will have demonstrated that you can:\n",
    "\n",
    "- explain practical challenges working with floating-point numbers"
   ]
  },
  {
   "cell_type": "markdown",
   "id": "4ea8e20b",
   "metadata": {},
   "source": [
    "## How to access the lab\n",
    "\n",
    "You can access the lab worksheet directly through [minerva](https://minerva.leeds.ac.uk/), [github](https://github.com/COMP2870-2526/linear-algebra-student-labs) or using Noteable (accessible via Minerva - see `README.md` for detailed instructions).\n",
    "\n",
    "These lab worksheets are written using ['Jupyter Notebooks'](https://jupyter.org/). Many, many tutorials and guides are [available online](https://www.dataquest.io/blog/jupyter-notebook-tutorial/)."
   ]
  },
  {
   "cell_type": "markdown",
   "id": "10a66fe0-700f-4ab5-bcf2-91b4e95b1aaa",
   "metadata": {},
   "source": [
    "<div class=\"alert alert-block alert-danger\">\n",
    "<b>Portfolio exercise</b>\n",
    "\n",
    "There are no portfolio exercises in this lab worksheet.\n",
    "</div>"
   ]
  },
  {
   "cell_type": "markdown",
   "id": "8d99ee2f-6f6b-44c5-8f53-cd8aea63e224",
   "metadata": {
    "editable": true,
    "slideshow": {
     "slide_type": ""
    },
    "tags": []
   },
   "source": [
    "## Exercise 1:\n",
    "\n",
    "Write a for loop to add\n",
    "`0.1 + 0.1 + 0.1 + 0.1 + 0.1 + 0.1 + 0.1 + 0.1 + 0.1 + 0.1` (i.e. `0.1`\n",
    "10 times). What value do you get and why?"
   ]
  },
  {
   "cell_type": "code",
   "execution_count": null,
   "id": "5348e802-4be6-413f-a085-b8c80347fc45",
   "metadata": {
    "editable": true,
    "slideshow": {
     "slide_type": ""
    },
    "tags": []
   },
   "outputs": [],
   "source": []
  },
  {
   "cell_type": "markdown",
   "id": "d3febef5-7772-4b79-b06c-ef2abf93870f",
   "metadata": {
    "editable": true,
    "slideshow": {
     "slide_type": ""
    },
    "tags": []
   },
   "source": [
    "## Exercise 2:\n",
    "\n",
    "Given an algorithm which gives *computed answer* as an approximation to\n",
    "an *exact answer*, we define two errors:\n",
    "$$\n",
    "\\begin{aligned}\n",
    "\\text{Absolute error} & = |\\text{computer answer} - \\text{exact answer}| \\\\\n",
    "\\text{Relative error} & = \\frac{|\\text{computer answer} - \\text{exact answer}|}{| \\text{exact answer}|}.\n",
    "\\end{aligned}\n",
    "$$\n",
    "\n",
    "Recall derivatives of a smooth function\n",
    "$f \\colon \\mathbb{R} \\to \\mathbb{R}$ can be computed by finding the\n",
    "limit\n",
    "$$\n",
    "f'(x) = \\lim_{\\Delta x \\to 0} \\frac{f(x + \\Delta x) - f(x)}{\\Delta}).\n",
    "$$\n",
    "We can use the *finite difference method* which computes an\n",
    "approximation to derivatives through replacing the limiting process by\n",
    "taking a small value for $\\Delta x$:\n",
    "$$\n",
    "\\text{approx} = \\frac{f(x + \\Delta x) - f(x)}{\\Delta}).\n",
    "$$\n",
    "\n",
    "Write code to approximate the derivative using finite differences of\n",
    "$f(x) = x^4$ at $x=1$ and at $x=10$. Produce a table of values of\n",
    "$\\Delta x$, the finite difference approximation the derivative at each\n",
    "point, as well as the absolute and relative errors. Use\n",
    "$\\Delta x = 10^{-j}$ for $j = 3, 4, 5, 6, \\ldots, 19$.\n",
    "\n",
    "Which value of $\\Delta x$ gives the best value of the derivative at each\n",
    "point? Investigate what goes wrong for values of $\\Delta x$ smaller than\n",
    "the best value."
   ]
  },
  {
   "cell_type": "code",
   "execution_count": null,
   "id": "cd7a5cf0-2e8a-4e49-ac08-f9c8ca0c2b8c",
   "metadata": {
    "editable": true,
    "slideshow": {
     "slide_type": ""
    },
    "tags": []
   },
   "outputs": [],
   "source": []
  },
  {
   "cell_type": "markdown",
   "id": "5dd541ba-62ab-42e5-a546-f38c85d98e28",
   "metadata": {
    "editable": true,
    "slideshow": {
     "slide_type": ""
    },
    "tags": []
   },
   "source": [
    "## Exercise 3:\n",
    "\n",
    "The [Basel problem](https://en.wikipedia.org/wiki/Basel_problem) is the\n",
    "problem of finding the sum:\n",
    "$$\n",
    "\\sum_{n=1}^\\infty \\frac{1}{n^2} = \\frac{1}{1^2} + \\frac{1}{2^2} + \\frac{1}{3^2} + \\cdots = \\frac{\\pi^2}{6} \\approx 1.644934\n",
    "$$\n",
    "\n",
    "Write Python code to find the sum above replaced by the partial sum:\n",
    "$$\n",
    "S_N = \\sum_{n=1}^N \\frac{1}{n^2} = \\frac{1}{1^2} + \\frac{1}{2^2} + \\frac{1}{3^2} + \\cdots + \\frac{1}{N^2}.\n",
    "$$\n",
    "Compute the values of $S_{10^7}$, $S_{10^8}$ and $S_{10^9}$ and\n",
    "compute absolute errors to $\\pi^2/6$.\n",
    "\n",
    "How do the errors change if you reverse and instead start for the\n",
    "largest values of $n$ in the sum? Why?"
   ]
  },
  {
   "cell_type": "code",
   "execution_count": null,
   "id": "f9e3114e-8563-42cc-af2b-849a0875e664",
   "metadata": {
    "editable": true,
    "slideshow": {
     "slide_type": ""
    },
    "tags": []
   },
   "outputs": [],
   "source": []
  },
  {
   "cell_type": "markdown",
   "id": "7950ba9d-579b-457f-8ea8-f2ccb771939d",
   "metadata": {
    "editable": true,
    "slideshow": {
     "slide_type": ""
    },
    "tags": []
   },
   "source": [
    "## Exercise 4 (Extension):\n",
    "\n",
    "Archimedes approximated $\\pi$ by determining lengths of the perimeters\n",
    "of polygons inscribing and circumscribing a circle of diameter 1.\n",
    "Starting with the hexagon and successively doubling the number of sides,\n",
    "we have the recurrence formula for the side length in the circumscribed\n",
    "polygon, at step $n+1$,\n",
    "$$\n",
    "\\begin{aligned}\n",
    "p_{n+1} & = \\frac{ \\sqrt{p_n^2+1} - 1 }{ p_n } && \\text{ for } n=0,1,2,\\ldots \\\\\n",
    "p_0 & = \\frac{1}{\\sqrt{3}}.\n",
    "\\end{aligned}\n",
    "$$\n",
    "Thus $\\pi$ can be found as a limit, noticing that the number of sides\n",
    "is $6 \\cdot 2^n$,\n",
    "$$\n",
    "\\pi = \\lim_{n \\to \\infty} 6 \\cdot 2^n \\cdot p_n = 3.141592653589793\\ldots \n",
    "$$\n",
    "\n",
    "We can use this iteration to write code to compute $\\pi$ using:"
   ]
  },
  {
   "cell_type": "code",
   "execution_count": null,
   "id": "4cfe37f7-c947-4a71-a4ef-dc3552d7713e",
   "metadata": {
    "editable": true,
    "slideshow": {
     "slide_type": ""
    },
    "tags": []
   },
   "outputs": [],
   "source": [
    "import numpy as np\n",
    "\n",
    "\n",
    "def side_length(n):\n",
    "    \"\"\"\n",
    "    Compute the length of one side of a polygon with 6*2**n sides.\n",
    "\n",
    "    ARGUMENTS:  n  positive integer to calculate number of sides.\n",
    "\n",
    "    RETURNS:    float\n",
    "    \"\"\"\n",
    "    assert n >= 0\n",
    "\n",
    "    if n == 0:\n",
    "        return 1.0 / np.sqrt(3.0)\n",
    "\n",
    "    p = side_length(n - 1)\n",
    "    return (np.sqrt(p * p + 1.0) - 1.0) / p\n",
    "\n",
    "\n",
    "def pi_approx(n):\n",
    "    \"\"\"\n",
    "    Compute an approximation to pi using polygonal approxmations of\n",
    "    a circle.\n",
    "\n",
    "    ARGUMENTS:  n postive integer\n",
    "\n",
    "    RETURNS:    float approximation of pi\n",
    "    \"\"\"\n",
    "    return 6.0 * 2**n * side_length(n)"
   ]
  },
  {
   "cell_type": "markdown",
   "id": "207a5561",
   "metadata": {
    "editable": true,
    "slideshow": {
     "slide_type": ""
    },
    "tags": []
   },
   "source": [
    "1.  Produce a table of values of `n`, `pi_approx(n)` and the error\n",
    "    between $\\pi$ and its approximation for `n` between 0 and 50\n",
    "    inclusive. How many correct digits can you achieve?\n",
    "\n",
    "2.  Iterating further after the best approximation, what would you see?\n",
    "    Why?\n",
    "\n",
    "3.  Consider an alternative way of writing the update formula for $p_n$:\n",
    "    $$\n",
    "    p_{n+1} = \\frac{p_n}{ \\sqrt{p_n^2 + 1} + 1 } \\quad \\text{ for } n=0,1,2,\\ldots\n",
    "    $$\n",
    "    The reformulation is achieved by completing the square in the numerator.\n",
    "    Implement this new formula. Produce a table of values of `n`,\n",
    "    `pi_approx(n)` and the error between $\\pi$ and its approximation for\n",
    "    `n` between 0 and 50 inclusive.\n",
    "\n",
    "5.  How many correct digits can you achieve now? If you make more and\n",
    "    more iterations after the best approximation, comment on what you\n",
    "    observe by considering each term in your iteration formula."
   ]
  },
  {
   "cell_type": "code",
   "execution_count": null,
   "id": "294209d9-f3cf-4280-923e-84d772bd1244",
   "metadata": {
    "editable": true,
    "slideshow": {
     "slide_type": ""
    },
    "tags": []
   },
   "outputs": [],
   "source": []
  }
 ],
 "metadata": {
  "kernelspec": {
   "display_name": "Python 3 (ipykernel)",
   "language": "python",
   "name": "python3"
  },
  "language_info": {
   "codemirror_mode": {
    "name": "ipython",
    "version": 3
   },
   "file_extension": ".py",
   "mimetype": "text/x-python",
   "name": "python",
   "nbconvert_exporter": "python",
   "pygments_lexer": "ipython3",
   "version": "3.12.8"
  }
 },
 "nbformat": 4,
 "nbformat_minor": 5
}
